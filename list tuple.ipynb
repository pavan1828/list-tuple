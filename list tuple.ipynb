{
 "cells": [
  {
   "cell_type": "markdown",
   "id": "d6c654c9",
   "metadata": {},
   "source": [
    "# list :"
   ]
  },
  {
   "cell_type": "markdown",
   "id": "96826b67",
   "metadata": {},
   "source": [
    "<b>properties:<b>"
   ]
  },
  {
   "cell_type": "markdown",
   "id": "b29557e0",
   "metadata": {},
   "source": [
    "* list is one of the predifined class and treated as list data type\n",
    "* The purpose of list data type is that \"To Store Multiple Values of Same Type or Different Type or Both the types in single       object with Unique and Duplicate.\n",
    "* The Data in List object Stored / Organized within Square Brackets [ ] and They must be separated by Comma.\n",
    "* An object of list maintains Insertion Order.\n",
    "* On the object of list, we can perform Both Indexing and Slicing Operations\n",
    "* An an object of List belongs to Mutable bcoz Updation done at Same Address.\n",
    "* In Python Programming, we have Two Types of List objects. They are\n",
    "\t\ta) Empty List\n",
    "\t\tb) Non-Empty List"
   ]
  },
  {
   "cell_type": "markdown",
   "id": "07e5932f",
   "metadata": {},
   "source": [
    "<b>a) Empty List<b>\n",
    "\n",
    "* An Empty List is one, which does not contain any Elements and whose Length is 0 \n",
    "* Syntax:         varname=[ ]\n",
    "\t\t\t\t(OR)\n",
    "\t\t\tvarname=list()\t\t"
   ]
  },
  {
   "cell_type": "markdown",
   "id": "98b38963",
   "metadata": {},
   "source": [
    "<b>b) Non-Empty List<b>\n",
    "\n",
    "* A Non-Empty List is one, which contains  Elements and whose Length is >0 \n",
    "* Syntax:         varname=[Val1,Val2....Val-n]\n",
    "\t\t\t\t(OR)\n",
    "\t\t\tvarname=list(object)"
   ]
  },
  {
   "cell_type": "code",
   "execution_count": 4,
   "id": "182185f7",
   "metadata": {},
   "outputs": [
    {
     "name": "stdout",
     "output_type": "stream",
     "text": [
      "[10, 'python', 10.2, True] <class 'list'>\n"
     ]
    }
   ],
   "source": [
    "l1=[10,\"python\",10.2,True]\n",
    "print(l1,type(l1))"
   ]
  },
  {
   "cell_type": "code",
   "execution_count": 5,
   "id": "c3be83a5",
   "metadata": {},
   "outputs": [
    {
     "data": {
      "text/plain": [
       "10"
      ]
     },
     "execution_count": 5,
     "metadata": {},
     "output_type": "execute_result"
    }
   ],
   "source": [
    "l1[0]"
   ]
  },
  {
   "cell_type": "code",
   "execution_count": 6,
   "id": "d46a6757",
   "metadata": {},
   "outputs": [
    {
     "data": {
      "text/plain": [
       "True"
      ]
     },
     "execution_count": 6,
     "metadata": {},
     "output_type": "execute_result"
    }
   ],
   "source": [
    "l1[-1]"
   ]
  },
  {
   "cell_type": "code",
   "execution_count": 7,
   "id": "b76beee8",
   "metadata": {},
   "outputs": [
    {
     "data": {
      "text/plain": [
       "[True, 10.2, 'python', 10]"
      ]
     },
     "execution_count": 7,
     "metadata": {},
     "output_type": "execute_result"
    }
   ],
   "source": [
    "l1[::-1]"
   ]
  },
  {
   "cell_type": "code",
   "execution_count": 8,
   "id": "bfdd46b0",
   "metadata": {},
   "outputs": [
    {
     "data": {
      "text/plain": [
       "['python', 10.2, True]"
      ]
     },
     "execution_count": 8,
     "metadata": {},
     "output_type": "execute_result"
    }
   ],
   "source": [
    "l1[1:5]"
   ]
  },
  {
   "cell_type": "code",
   "execution_count": 10,
   "id": "8fa6b46a",
   "metadata": {},
   "outputs": [
    {
     "data": {
      "text/plain": [
       "[100, 'python', 10.2, True]"
      ]
     },
     "execution_count": 10,
     "metadata": {},
     "output_type": "execute_result"
    }
   ],
   "source": [
    "l1[0]=100 # Updating Single value of List with Indexing\n",
    "l1"
   ]
  },
  {
   "cell_type": "code",
   "execution_count": 11,
   "id": "8f9620d5",
   "metadata": {},
   "outputs": [
    {
     "name": "stdout",
     "output_type": "stream",
     "text": [
      "[100, 'python', 10.2, 'Dsc', 1.2] <class 'list'> 2245250353344\n"
     ]
    }
   ],
   "source": [
    "l1[3:5]=[\"Dsc\",1.2]  # Updating Multiple value of List with Slicing\n",
    "print(l1,type(l1),id(l1))"
   ]
  },
  {
   "cell_type": "code",
   "execution_count": 12,
   "id": "e9634a2d",
   "metadata": {},
   "outputs": [
    {
     "name": "stdout",
     "output_type": "stream",
     "text": [
      "[1000, 'VINAY', 'IMPO', 0.0, 'NOColl'] <class 'list'> 2245250353344\n"
     ]
    }
   ],
   "source": [
    "l1[::]=[1000,\"VINAY\",\"IMPO\",0.0,\"NOColl\"]\n",
    "print(l1,type(l1),id(l1))"
   ]
  },
  {
   "cell_type": "code",
   "execution_count": 13,
   "id": "3e9490c7",
   "metadata": {},
   "outputs": [
    {
     "data": {
      "text/plain": [
       "[1000, 'VINAY', 'IMPO', 0.0, 'NOColl']"
      ]
     },
     "execution_count": 13,
     "metadata": {},
     "output_type": "execute_result"
    }
   ],
   "source": [
    "l1"
   ]
  },
  {
   "cell_type": "code",
   "execution_count": 14,
   "id": "09eedc62",
   "metadata": {},
   "outputs": [
    {
     "data": {
      "text/plain": [
       "5"
      ]
     },
     "execution_count": 14,
     "metadata": {},
     "output_type": "execute_result"
    }
   ],
   "source": [
    "len(l1)"
   ]
  },
  {
   "cell_type": "code",
   "execution_count": 15,
   "id": "07495313",
   "metadata": {},
   "outputs": [
    {
     "name": "stdout",
     "output_type": "stream",
     "text": [
      "[] <class 'list'>\n"
     ]
    }
   ],
   "source": [
    "l2=[]\n",
    "print(l2,type(l2))"
   ]
  },
  {
   "cell_type": "code",
   "execution_count": 16,
   "id": "f96ac843",
   "metadata": {},
   "outputs": [
    {
     "name": "stdout",
     "output_type": "stream",
     "text": [
      "[] <class 'list'>\n"
     ]
    }
   ],
   "source": [
    "l3=list()\n",
    "print(l3,type(l3))"
   ]
  },
  {
   "cell_type": "code",
   "execution_count": 17,
   "id": "90a249de",
   "metadata": {},
   "outputs": [
    {
     "name": "stdout",
     "output_type": "stream",
     "text": [
      "python\n"
     ]
    }
   ],
   "source": [
    "s=\"python\"\n",
    "print(s)\n"
   ]
  },
  {
   "cell_type": "code",
   "execution_count": 18,
   "id": "9b29fe8a",
   "metadata": {},
   "outputs": [
    {
     "name": "stdout",
     "output_type": "stream",
     "text": [
      "['p', 'y', 't', 'h', 'o', 'n'] <class 'list'>\n"
     ]
    }
   ],
   "source": [
    "l1=list(s)\n",
    "print(l1,type(l1))"
   ]
  },
  {
   "cell_type": "code",
   "execution_count": 20,
   "id": "3118ad74",
   "metadata": {},
   "outputs": [
    {
     "name": "stdout",
     "output_type": "stream",
     "text": [
      "['python'] <class 'list'>\n"
     ]
    }
   ],
   "source": [
    "l2=list([s])\n",
    "print(l2,type(l2))"
   ]
  },
  {
   "cell_type": "markdown",
   "id": "fa60af60",
   "metadata": {},
   "source": [
    "* We know that on the object of List , we can perform Both Indexing and Slicing Operations.\n",
    "* Along with Indexing and Slicing Operations, we can also Perform Various Operations by using Pre-defined Functions present in list object. They are\n"
   ]
  },
  {
   "cell_type": "markdown",
   "id": "3bc62c86",
   "metadata": {},
   "source": [
    "**1. append()**\n",
    "* syntax:listobj.append(value)\n",
    "* This function is used for appending (adding at end) single values to list."
   ]
  },
  {
   "cell_type": "code",
   "execution_count": 28,
   "id": "48ffdc7a",
   "metadata": {},
   "outputs": [
    {
     "name": "stdout",
     "output_type": "stream",
     "text": [
      "[10, 'pavan'] <class 'list'>\n"
     ]
    }
   ],
   "source": [
    "a1=[10,'pavan']\n",
    "print(a1,type(a1))"
   ]
  },
  {
   "cell_type": "code",
   "execution_count": 29,
   "id": "e853ddce",
   "metadata": {},
   "outputs": [
    {
     "data": {
      "text/plain": [
       "[10, 'pavan', 20]"
      ]
     },
     "execution_count": 29,
     "metadata": {},
     "output_type": "execute_result"
    }
   ],
   "source": [
    "a1.append(20)\n",
    "a1"
   ]
  },
  {
   "cell_type": "code",
   "execution_count": 30,
   "id": "edb05af3",
   "metadata": {},
   "outputs": [
    {
     "name": "stdout",
     "output_type": "stream",
     "text": [
      "[] <class 'list'>\n"
     ]
    }
   ],
   "source": [
    "a=[]\n",
    "print(a,type(a))"
   ]
  },
  {
   "cell_type": "code",
   "execution_count": 31,
   "id": "24ed48ed",
   "metadata": {},
   "outputs": [
    {
     "ename": "TypeError",
     "evalue": "list.append() takes exactly one argument (2 given)",
     "output_type": "error",
     "traceback": [
      "\u001b[1;31m---------------------------------------------------------------------------\u001b[0m",
      "\u001b[1;31mTypeError\u001b[0m                                 Traceback (most recent call last)",
      "\u001b[1;32m~\\AppData\\Local\\Temp\\ipykernel_21768\\346921428.py\u001b[0m in \u001b[0;36m<module>\u001b[1;34m\u001b[0m\n\u001b[1;32m----> 1\u001b[1;33m \u001b[0ma\u001b[0m\u001b[1;33m.\u001b[0m\u001b[0mappend\u001b[0m\u001b[1;33m(\u001b[0m\u001b[1;36m10\u001b[0m\u001b[1;33m,\u001b[0m\u001b[1;36m30\u001b[0m\u001b[1;33m)\u001b[0m\u001b[1;33m\u001b[0m\u001b[1;33m\u001b[0m\u001b[0m\n\u001b[0m\u001b[0;32m      2\u001b[0m \u001b[0ma\u001b[0m\u001b[1;33m\u001b[0m\u001b[1;33m\u001b[0m\u001b[0m\n",
      "\u001b[1;31mTypeError\u001b[0m: list.append() takes exactly one argument (2 given)"
     ]
    }
   ],
   "source": [
    "a.append(10,30)\n",
    "a"
   ]
  },
  {
   "cell_type": "markdown",
   "id": "e43f77f5",
   "metadata": {},
   "source": [
    "**2.insert()**"
   ]
  },
  {
   "cell_type": "markdown",
   "id": "ab2d2775",
   "metadata": {},
   "source": [
    "Syntax:-   listobj.insert(index,Value)\n",
    "* Here Index Represents Either +ve or -ve\n",
    "* Here Value can be One or More(list)\n",
    "* This Function is used for adding The value to the list at Specified Valid Index.\n",
    "* If the Index Value is not existing at +Ve Side then the value Inserted at END/Last\n",
    "* If the Index Value is not existing at -Ve Side then the value Inserted at BEGIN / First"
   ]
  },
  {
   "cell_type": "code",
   "execution_count": 33,
   "id": "ed90735e",
   "metadata": {},
   "outputs": [
    {
     "name": "stdout",
     "output_type": "stream",
     "text": [
      "[10, 'python', True, (5+6j)] <class 'list'> 2245251508992\n"
     ]
    }
   ],
   "source": [
    "l=[10,'python',True,5+6j]\n",
    "print(l,type(l),id(l))"
   ]
  },
  {
   "cell_type": "code",
   "execution_count": 34,
   "id": "82128b9e",
   "metadata": {},
   "outputs": [
    {
     "name": "stdout",
     "output_type": "stream",
     "text": [
      "[10, 'innomatics', 'python', True, (5+6j)] <class 'list'> 2245251508992\n"
     ]
    }
   ],
   "source": [
    "l.insert(1,'innomatics')\n",
    "print(l,type(l),id(l))"
   ]
  },
  {
   "cell_type": "code",
   "execution_count": 36,
   "id": "c81255eb",
   "metadata": {},
   "outputs": [
    {
     "name": "stdout",
     "output_type": "stream",
     "text": [
      "[10, 'innomatics', 'python', 2, 2, True, (5+6j)] <class 'list'> 2245251508992\n"
     ]
    }
   ],
   "source": [
    "l.insert(3,2)\n",
    "print(l,type(l),id(l))"
   ]
  },
  {
   "cell_type": "code",
   "execution_count": 37,
   "id": "7d143aca",
   "metadata": {},
   "outputs": [
    {
     "name": "stdout",
     "output_type": "stream",
     "text": [
      "[10, 'innomatics', 'python', 2, 2, True, (5+6j), 45.3] <class 'list'> 2245251508992\n"
     ]
    }
   ],
   "source": [
    "l.insert(15,45.3)\n",
    "print(l,type(l),id(l))"
   ]
  },
  {
   "cell_type": "code",
   "execution_count": 39,
   "id": "f3866c91",
   "metadata": {},
   "outputs": [
    {
     "name": "stdout",
     "output_type": "stream",
     "text": [
      "['nl', 'nl', 10, 'innomatics', 'python', 2, 2, True, (5+6j), 45.3] <class 'list'> 2245251508992\n"
     ]
    }
   ],
   "source": [
    "l.insert(-15,'nl')\n",
    "print(l,type(l),id(l))"
   ]
  },
  {
   "cell_type": "markdown",
   "id": "ebeb5045",
   "metadata": {},
   "source": [
    "**3.clear()**"
   ]
  },
  {
   "cell_type": "markdown",
   "id": "10585b42",
   "metadata": {},
   "source": [
    "Syntax:    listobj.clear()\n",
    "* This Function is used for Removing all the Values from list object\n",
    "* When call this Function upon Empty List object then we never get any Result / None"
   ]
  },
  {
   "cell_type": "code",
   "execution_count": 41,
   "id": "54ac7fc4",
   "metadata": {},
   "outputs": [
    {
     "name": "stdout",
     "output_type": "stream",
     "text": [
      "[15, 'pavan', True, 5.32] <class 'list'> 2245250746816\n"
     ]
    }
   ],
   "source": [
    "l1=[15,'pavan',True,5.32]\n",
    "print(l1,type(l1),id(l1))"
   ]
  },
  {
   "cell_type": "code",
   "execution_count": 42,
   "id": "2d37666c",
   "metadata": {},
   "outputs": [
    {
     "name": "stdout",
     "output_type": "stream",
     "text": [
      "[] <class 'list'> 2245250746816\n"
     ]
    }
   ],
   "source": [
    "l1.clear()\n",
    "print(l1,type(l1),id(l1))"
   ]
  },
  {
   "cell_type": "code",
   "execution_count": 45,
   "id": "aa5b7857",
   "metadata": {},
   "outputs": [
    {
     "name": "stdout",
     "output_type": "stream",
     "text": [
      "[] <class 'list'> 2245251506944\n"
     ]
    }
   ],
   "source": [
    "l2=[]\n",
    "print(l2,type(l2),id(l2))"
   ]
  },
  {
   "cell_type": "code",
   "execution_count": 47,
   "id": "30270446",
   "metadata": {},
   "outputs": [
    {
     "name": "stdout",
     "output_type": "stream",
     "text": [
      "None\n"
     ]
    }
   ],
   "source": [
    "print(l2.clear())\n"
   ]
  },
  {
   "cell_type": "code",
   "execution_count": 48,
   "id": "61eae67a",
   "metadata": {},
   "outputs": [
    {
     "name": "stdout",
     "output_type": "stream",
     "text": [
      "None\n"
     ]
    }
   ],
   "source": [
    "print([].clear())"
   ]
  },
  {
   "cell_type": "markdown",
   "id": "403b7e80",
   "metadata": {},
   "source": [
    "**4.remove()**"
   ]
  },
  {
   "cell_type": "markdown",
   "id": "3ddf845c",
   "metadata": {},
   "source": [
    "Syntax:-  listobj.remove(Value)\n",
    "* This Function  is used for Removing First Occurence of Specified Element.\n",
    "* If the Specified Elements does not exist then we get ValueError"
   ]
  },
  {
   "cell_type": "code",
   "execution_count": 49,
   "id": "26b36ec6",
   "metadata": {},
   "outputs": [
    {
     "name": "stdout",
     "output_type": "stream",
     "text": [
      "[10, 'pavan', 5.23, True] <class 'list'>\n"
     ]
    }
   ],
   "source": [
    "l1=[10,'pavan',5.23,True]\n",
    "print(l1,type(l1))"
   ]
  },
  {
   "cell_type": "code",
   "execution_count": 50,
   "id": "c52fa849",
   "metadata": {},
   "outputs": [
    {
     "name": "stdout",
     "output_type": "stream",
     "text": [
      "[10, 'pavan', 5.23] <class 'list'>\n"
     ]
    }
   ],
   "source": [
    "l1.remove(True)\n",
    "print(l1,type(l1))"
   ]
  },
  {
   "cell_type": "code",
   "execution_count": 51,
   "id": "8571aaa2",
   "metadata": {},
   "outputs": [
    {
     "ename": "ValueError",
     "evalue": "list.remove(x): x not in list",
     "output_type": "error",
     "traceback": [
      "\u001b[1;31m---------------------------------------------------------------------------\u001b[0m",
      "\u001b[1;31mValueError\u001b[0m                                Traceback (most recent call last)",
      "\u001b[1;32m~\\AppData\\Local\\Temp\\ipykernel_21768\\2268622293.py\u001b[0m in \u001b[0;36m<module>\u001b[1;34m\u001b[0m\n\u001b[1;32m----> 1\u001b[1;33m \u001b[0ml1\u001b[0m\u001b[1;33m.\u001b[0m\u001b[0mremove\u001b[0m\u001b[1;33m(\u001b[0m\u001b[1;36m20\u001b[0m\u001b[1;33m)\u001b[0m\u001b[1;33m\u001b[0m\u001b[1;33m\u001b[0m\u001b[0m\n\u001b[0m\u001b[0;32m      2\u001b[0m \u001b[0mprint\u001b[0m\u001b[1;33m(\u001b[0m\u001b[0ml1\u001b[0m\u001b[1;33m,\u001b[0m\u001b[0mtype\u001b[0m\u001b[1;33m(\u001b[0m\u001b[0ml1\u001b[0m\u001b[1;33m)\u001b[0m\u001b[1;33m)\u001b[0m\u001b[1;33m\u001b[0m\u001b[1;33m\u001b[0m\u001b[0m\n",
      "\u001b[1;31mValueError\u001b[0m: list.remove(x): x not in list"
     ]
    }
   ],
   "source": [
    "l1.remove(20)\n",
    "print(l1,type(l1))"
   ]
  },
  {
   "cell_type": "code",
   "execution_count": 52,
   "id": "02dbed6f",
   "metadata": {},
   "outputs": [
    {
     "name": "stdout",
     "output_type": "stream",
     "text": [
      "[10, 20, 30, 40, 10, 50, 80, 10, 20, 30] <class 'list'>\n"
     ]
    }
   ],
   "source": [
    "l2=[10,20,30,40,10,50,80,10,20,30]\n",
    "print(l2,type(l2))"
   ]
  },
  {
   "cell_type": "code",
   "execution_count": 54,
   "id": "a6d9751a",
   "metadata": {},
   "outputs": [
    {
     "name": "stdout",
     "output_type": "stream",
     "text": [
      "[20, 30, 40, 50, 80, 10, 20, 30] <class 'list'>\n"
     ]
    }
   ],
   "source": [
    "l2.remove(10)\n",
    "print(l2,type(l2))"
   ]
  },
  {
   "cell_type": "markdown",
   "id": "d3d32f28",
   "metadata": {},
   "source": [
    "**5.pop(index)**"
   ]
  },
  {
   "cell_type": "markdown",
   "id": "18bebc52",
   "metadata": {},
   "source": [
    "Syntax:  listobj.pop(index)\n",
    "* This Function is used for Removing the Elemements of List based on Index\n",
    "* If the Index is Invalid then we get IndexError"
   ]
  },
  {
   "cell_type": "code",
   "execution_count": 55,
   "id": "17aa6276",
   "metadata": {},
   "outputs": [
    {
     "name": "stdout",
     "output_type": "stream",
     "text": [
      "[10, 20, 30, 40, 80, 20, 40] <class 'list'> 2245249646528\n"
     ]
    }
   ],
   "source": [
    "l2=[10,20,30,40,80,20,40]\n",
    "print(l2,type(l2),id(l2))"
   ]
  },
  {
   "cell_type": "code",
   "execution_count": 56,
   "id": "5cc31a8d",
   "metadata": {},
   "outputs": [
    {
     "name": "stdout",
     "output_type": "stream",
     "text": [
      "[10, 20, 40, 80, 20, 40] <class 'list'> 2245249646528\n"
     ]
    }
   ],
   "source": [
    "l2.pop(2)\n",
    "print(l2,type(l2),id(l2))"
   ]
  },
  {
   "cell_type": "code",
   "execution_count": 57,
   "id": "60c29130",
   "metadata": {},
   "outputs": [
    {
     "name": "stdout",
     "output_type": "stream",
     "text": [
      "[10, 20, 40, 80, 20] <class 'list'> 2245249646528\n"
     ]
    }
   ],
   "source": [
    "l2.pop(-1)\n",
    "print(l2,type(l2),id(l2))"
   ]
  },
  {
   "cell_type": "code",
   "execution_count": 58,
   "id": "ac2aa1b5",
   "metadata": {},
   "outputs": [
    {
     "ename": "IndexError",
     "evalue": "pop from empty list",
     "output_type": "error",
     "traceback": [
      "\u001b[1;31m---------------------------------------------------------------------------\u001b[0m",
      "\u001b[1;31mIndexError\u001b[0m                                Traceback (most recent call last)",
      "\u001b[1;32m~\\AppData\\Local\\Temp\\ipykernel_21768\\3650403866.py\u001b[0m in \u001b[0;36m<module>\u001b[1;34m\u001b[0m\n\u001b[1;32m----> 1\u001b[1;33m \u001b[0mprint\u001b[0m\u001b[1;33m(\u001b[0m\u001b[1;33m[\u001b[0m\u001b[1;33m]\u001b[0m\u001b[1;33m.\u001b[0m\u001b[0mpop\u001b[0m\u001b[1;33m(\u001b[0m\u001b[1;36m2\u001b[0m\u001b[1;33m)\u001b[0m\u001b[1;33m)\u001b[0m\u001b[1;33m\u001b[0m\u001b[1;33m\u001b[0m\u001b[0m\n\u001b[0m",
      "\u001b[1;31mIndexError\u001b[0m: pop from empty list"
     ]
    }
   ],
   "source": [
    "print([].pop(2))\n"
   ]
  },
  {
   "cell_type": "code",
   "execution_count": 59,
   "id": "88f06efb",
   "metadata": {},
   "outputs": [
    {
     "ename": "IndexError",
     "evalue": "pop index out of range",
     "output_type": "error",
     "traceback": [
      "\u001b[1;31m---------------------------------------------------------------------------\u001b[0m",
      "\u001b[1;31mIndexError\u001b[0m                                Traceback (most recent call last)",
      "\u001b[1;32m~\\AppData\\Local\\Temp\\ipykernel_21768\\592833601.py\u001b[0m in \u001b[0;36m<module>\u001b[1;34m\u001b[0m\n\u001b[1;32m----> 1\u001b[1;33m \u001b[0ml2\u001b[0m\u001b[1;33m.\u001b[0m\u001b[0mpop\u001b[0m\u001b[1;33m(\u001b[0m\u001b[1;36m60\u001b[0m\u001b[1;33m)\u001b[0m\u001b[1;33m\u001b[0m\u001b[1;33m\u001b[0m\u001b[0m\n\u001b[0m\u001b[0;32m      2\u001b[0m \u001b[0mprint\u001b[0m\u001b[1;33m(\u001b[0m\u001b[0ml2\u001b[0m\u001b[1;33m,\u001b[0m\u001b[0mtype\u001b[0m\u001b[1;33m(\u001b[0m\u001b[0ml2\u001b[0m\u001b[1;33m)\u001b[0m\u001b[1;33m,\u001b[0m\u001b[0mid\u001b[0m\u001b[1;33m(\u001b[0m\u001b[0ml2\u001b[0m\u001b[1;33m)\u001b[0m\u001b[1;33m)\u001b[0m\u001b[1;33m\u001b[0m\u001b[1;33m\u001b[0m\u001b[0m\n",
      "\u001b[1;31mIndexError\u001b[0m: pop index out of range"
     ]
    }
   ],
   "source": [
    "l2.pop(60)\n",
    "print(l2,type(l2),id(l2))"
   ]
  },
  {
   "cell_type": "markdown",
   "id": "01a91cc4",
   "metadata": {},
   "source": [
    "**6.pop()**"
   ]
  },
  {
   "cell_type": "markdown",
   "id": "83aa2056",
   "metadata": {},
   "source": [
    "Syntax:    listobj.pop()\n",
    "* This Function is used for Removing Last Element of non-list object\n",
    "* If we call pop() upon empty list object then we get IndexError.\n"
   ]
  },
  {
   "cell_type": "code",
   "execution_count": 60,
   "id": "5040d496",
   "metadata": {},
   "outputs": [
    {
     "data": {
      "text/plain": [
       "2.56"
      ]
     },
     "execution_count": 60,
     "metadata": {},
     "output_type": "execute_result"
    }
   ],
   "source": [
    "l1=[10,'pavan',2.56,]\n",
    "l1.pop()"
   ]
  },
  {
   "cell_type": "code",
   "execution_count": 61,
   "id": "41727fa3",
   "metadata": {},
   "outputs": [
    {
     "data": {
      "text/plain": [
       "'pavan'"
      ]
     },
     "execution_count": 61,
     "metadata": {},
     "output_type": "execute_result"
    }
   ],
   "source": [
    "l1.pop()"
   ]
  },
  {
   "cell_type": "code",
   "execution_count": 62,
   "id": "9fc9c412",
   "metadata": {},
   "outputs": [
    {
     "data": {
      "text/plain": [
       "10"
      ]
     },
     "execution_count": 62,
     "metadata": {},
     "output_type": "execute_result"
    }
   ],
   "source": [
    "l1.pop()"
   ]
  },
  {
   "cell_type": "code",
   "execution_count": 63,
   "id": "e6a71f3e",
   "metadata": {},
   "outputs": [
    {
     "ename": "IndexError",
     "evalue": "pop from empty list",
     "output_type": "error",
     "traceback": [
      "\u001b[1;31m---------------------------------------------------------------------------\u001b[0m",
      "\u001b[1;31mIndexError\u001b[0m                                Traceback (most recent call last)",
      "\u001b[1;32m~\\AppData\\Local\\Temp\\ipykernel_21768\\116200792.py\u001b[0m in \u001b[0;36m<module>\u001b[1;34m\u001b[0m\n\u001b[1;32m----> 1\u001b[1;33m \u001b[0ml1\u001b[0m\u001b[1;33m.\u001b[0m\u001b[0mpop\u001b[0m\u001b[1;33m(\u001b[0m\u001b[1;33m)\u001b[0m\u001b[1;33m\u001b[0m\u001b[1;33m\u001b[0m\u001b[0m\n\u001b[0m",
      "\u001b[1;31mIndexError\u001b[0m: pop from empty list"
     ]
    }
   ],
   "source": [
    "l1.pop()"
   ]
  },
  {
   "cell_type": "markdown",
   "id": "177978b6",
   "metadata": {},
   "source": [
    "**7.copy()**"
   ]
  },
  {
   "cell_type": "markdown",
   "id": "b90b03c1",
   "metadata": {},
   "source": [
    "* This Function is used copying the content of one list object to another list object (Shallow Copy).\n",
    "* Syntax:      listobj2=listobj1.copy()\n"
   ]
  },
  {
   "cell_type": "code",
   "execution_count": 64,
   "id": "b47f415f",
   "metadata": {},
   "outputs": [
    {
     "name": "stdout",
     "output_type": "stream",
     "text": [
      "[10, 'pavan'] 2245249761792\n"
     ]
    }
   ],
   "source": [
    "l1=[10,'pavan']\n",
    "print(l1,id(l1))"
   ]
  },
  {
   "cell_type": "code",
   "execution_count": 65,
   "id": "0912735f",
   "metadata": {},
   "outputs": [
    {
     "name": "stdout",
     "output_type": "stream",
     "text": [
      "[10, 'pavan'] 2245249764480\n"
     ]
    }
   ],
   "source": [
    "l2=l1.copy()\n",
    "print(l2,id(l2))"
   ]
  },
  {
   "cell_type": "code",
   "execution_count": 66,
   "id": "7f5c4c15",
   "metadata": {},
   "outputs": [
    {
     "name": "stdout",
     "output_type": "stream",
     "text": [
      "[10, 'pavan', 5.2] 2245249761792\n"
     ]
    }
   ],
   "source": [
    "l1.append(5.2)\n",
    "print(l1,id(l1))"
   ]
  },
  {
   "cell_type": "code",
   "execution_count": 67,
   "id": "bd6fd67f",
   "metadata": {},
   "outputs": [
    {
     "name": "stdout",
     "output_type": "stream",
     "text": [
      "[10, 'pavan'] 2245249764480\n"
     ]
    }
   ],
   "source": [
    "print(l2,id(l2))"
   ]
  },
  {
   "cell_type": "code",
   "execution_count": 68,
   "id": "feae0728",
   "metadata": {},
   "outputs": [
    {
     "name": "stdout",
     "output_type": "stream",
     "text": [
      "[10, 'pavan', 'innomatics'] 2245249764480\n"
     ]
    }
   ],
   "source": [
    "l2.insert(2,'innomatics')\n",
    "print(l2,id(l2))"
   ]
  },
  {
   "cell_type": "code",
   "execution_count": 69,
   "id": "f070a743",
   "metadata": {},
   "outputs": [
    {
     "name": "stdout",
     "output_type": "stream",
     "text": [
      "[10, 20, 30] <class 'list'> 2245249765184\n"
     ]
    }
   ],
   "source": [
    "a=[10,20,30]\n",
    "print(a,type(a),id(a))"
   ]
  },
  {
   "cell_type": "code",
   "execution_count": 73,
   "id": "9d779ecb",
   "metadata": {},
   "outputs": [],
   "source": [
    "b=a"
   ]
  },
  {
   "cell_type": "code",
   "execution_count": 74,
   "id": "ca65d45d",
   "metadata": {},
   "outputs": [
    {
     "name": "stdout",
     "output_type": "stream",
     "text": [
      "[10, 20, 30] <class 'list'> 2245249765184\n"
     ]
    }
   ],
   "source": [
    "print(b,type(b),id(b))"
   ]
  },
  {
   "cell_type": "code",
   "execution_count": 75,
   "id": "b062dc62",
   "metadata": {},
   "outputs": [
    {
     "name": "stdout",
     "output_type": "stream",
     "text": [
      "[10, 20, 30, 'python'] <class 'list'> 2245249765184\n"
     ]
    }
   ],
   "source": [
    "a.append('python')\n",
    "print(a,type(a),id(a))"
   ]
  },
  {
   "cell_type": "code",
   "execution_count": 76,
   "id": "6c968a5e",
   "metadata": {},
   "outputs": [
    {
     "name": "stdout",
     "output_type": "stream",
     "text": [
      "[10, 20, 30, 'python'] <class 'list'> 2245249765184\n"
     ]
    }
   ],
   "source": [
    "print(b,type(b),id(b))"
   ]
  },
  {
   "cell_type": "code",
   "execution_count": 77,
   "id": "50bf15b4",
   "metadata": {},
   "outputs": [
    {
     "name": "stdout",
     "output_type": "stream",
     "text": [
      "[10, 20, 'nl', 30, 'python'] <class 'list'> 2245249765184\n"
     ]
    }
   ],
   "source": [
    "b.insert(2,'nl')\n",
    "print(b,type(b),id(b))"
   ]
  },
  {
   "cell_type": "code",
   "execution_count": 78,
   "id": "ba3b2082",
   "metadata": {},
   "outputs": [
    {
     "name": "stdout",
     "output_type": "stream",
     "text": [
      "[10, 20, 'nl', 30, 'python'] <class 'list'> 2245249765184\n"
     ]
    }
   ],
   "source": [
    "print(a,type(a),id(a))"
   ]
  },
  {
   "cell_type": "markdown",
   "id": "8ce4c137",
   "metadata": {},
   "source": [
    "**8.index()**"
   ]
  },
  {
   "cell_type": "markdown",
   "id": "10dd735f",
   "metadata": {},
   "source": [
    "Syntax:   listobj.index(Value)\n",
    "* This Function is used  Finding Index of First occurence of Specified Element from non-empty list object.\n",
    "* If the Specified Element does not exist then we get ValueError\n",
    "* If we call this function on empty-list object then we get ValueError\n"
   ]
  },
  {
   "cell_type": "code",
   "execution_count": 80,
   "id": "6cddd29b",
   "metadata": {},
   "outputs": [
    {
     "name": "stdout",
     "output_type": "stream",
     "text": [
      "[10, 20, 10, 'pavan', 50, 10, 30] <class 'list'> 2245169277232\n"
     ]
    }
   ],
   "source": [
    "l=[10,20,10,'pavan',50,10,30]\n",
    "print(l,type(l),id(1))"
   ]
  },
  {
   "cell_type": "code",
   "execution_count": 81,
   "id": "e702f051",
   "metadata": {},
   "outputs": [
    {
     "data": {
      "text/plain": [
       "0"
      ]
     },
     "execution_count": 81,
     "metadata": {},
     "output_type": "execute_result"
    }
   ],
   "source": [
    "l.index(10)"
   ]
  },
  {
   "cell_type": "code",
   "execution_count": 83,
   "id": "5543a99f",
   "metadata": {},
   "outputs": [
    {
     "data": {
      "text/plain": [
       "6"
      ]
     },
     "execution_count": 83,
     "metadata": {},
     "output_type": "execute_result"
    }
   ],
   "source": [
    "l.index(30)"
   ]
  },
  {
   "cell_type": "code",
   "execution_count": 84,
   "id": "75a6cc2e",
   "metadata": {},
   "outputs": [
    {
     "ename": "ValueError",
     "evalue": "2 is not in list",
     "output_type": "error",
     "traceback": [
      "\u001b[1;31m---------------------------------------------------------------------------\u001b[0m",
      "\u001b[1;31mValueError\u001b[0m                                Traceback (most recent call last)",
      "\u001b[1;32m~\\AppData\\Local\\Temp\\ipykernel_21768\\3719352230.py\u001b[0m in \u001b[0;36m<module>\u001b[1;34m\u001b[0m\n\u001b[1;32m----> 1\u001b[1;33m \u001b[0ml\u001b[0m\u001b[1;33m.\u001b[0m\u001b[0mindex\u001b[0m\u001b[1;33m(\u001b[0m\u001b[1;36m2\u001b[0m\u001b[1;33m)\u001b[0m\u001b[1;33m\u001b[0m\u001b[1;33m\u001b[0m\u001b[0m\n\u001b[0m",
      "\u001b[1;31mValueError\u001b[0m: 2 is not in list"
     ]
    }
   ],
   "source": [
    "l.index(2)"
   ]
  },
  {
   "cell_type": "code",
   "execution_count": 87,
   "id": "c4e61245",
   "metadata": {},
   "outputs": [
    {
     "name": "stdout",
     "output_type": "stream",
     "text": [
      "0 10\n",
      "1 20\n",
      "2 10\n",
      "3 pavan\n",
      "4 50\n",
      "5 10\n",
      "6 30\n"
     ]
    }
   ],
   "source": [
    "for index,value in enumerate(l):\n",
    "    print(index,value)"
   ]
  },
  {
   "cell_type": "markdown",
   "id": "d4b597cf",
   "metadata": {},
   "source": [
    "**9.count()**"
   ]
  },
  {
   "cell_type": "markdown",
   "id": "ece6a26a",
   "metadata": {},
   "source": [
    "* This Function is used finding Number of Occurences of a specified Element.\n",
    "*Syntax:  listobj.count(value)"
   ]
  },
  {
   "cell_type": "code",
   "execution_count": 89,
   "id": "7a6a1a39",
   "metadata": {},
   "outputs": [
    {
     "name": "stdout",
     "output_type": "stream",
     "text": [
      "[10, 20, 50, 30, 40, 10, 50, 80, 60, 70, 30, 20, 10] <class 'list'> 2245251506688\n"
     ]
    }
   ],
   "source": [
    "l=[10,20,50,30,40,10,50,80,60,70,30,20,10]\n",
    "print(l,type(l),id(l))"
   ]
  },
  {
   "cell_type": "code",
   "execution_count": 90,
   "id": "9f027c35",
   "metadata": {},
   "outputs": [
    {
     "data": {
      "text/plain": [
       "3"
      ]
     },
     "execution_count": 90,
     "metadata": {},
     "output_type": "execute_result"
    }
   ],
   "source": [
    "l.count(10)"
   ]
  },
  {
   "cell_type": "code",
   "execution_count": 91,
   "id": "9f5ccbbf",
   "metadata": {},
   "outputs": [
    {
     "data": {
      "text/plain": [
       "2"
      ]
     },
     "execution_count": 91,
     "metadata": {},
     "output_type": "execute_result"
    }
   ],
   "source": [
    "l.count(30)"
   ]
  },
  {
   "cell_type": "code",
   "execution_count": 92,
   "id": "eeee0ceb",
   "metadata": {},
   "outputs": [
    {
     "data": {
      "text/plain": [
       "0"
      ]
     },
     "execution_count": 92,
     "metadata": {},
     "output_type": "execute_result"
    }
   ],
   "source": [
    "l.count(100)"
   ]
  },
  {
   "cell_type": "code",
   "execution_count": 94,
   "id": "ea5095dc",
   "metadata": {},
   "outputs": [
    {
     "data": {
      "text/plain": [
       "0"
      ]
     },
     "execution_count": 94,
     "metadata": {},
     "output_type": "execute_result"
    }
   ],
   "source": [
    "l.count('hyd')"
   ]
  },
  {
   "cell_type": "markdown",
   "id": "1b410636",
   "metadata": {},
   "source": [
    "**10.reverse()**"
   ]
  },
  {
   "cell_type": "markdown",
   "id": "13b72199",
   "metadata": {},
   "source": [
    "* This Function is used for reversing (Front to back and Back to Front) the elements of List object.\n",
    "* Syntax:   lstobj.reverse()"
   ]
  },
  {
   "cell_type": "code",
   "execution_count": 103,
   "id": "c343e3b9",
   "metadata": {},
   "outputs": [
    {
     "name": "stdout",
     "output_type": "stream",
     "text": [
      "[10, 'data', True, (5+5j), 'pavan', 1.0] <class 'list'> 2245251509504\n"
     ]
    }
   ],
   "source": [
    "l1=[10,'data',True,5+5j,'pavan',1.0]\n",
    "print(l1,type(l1),id(l1))\n"
   ]
  },
  {
   "cell_type": "code",
   "execution_count": 104,
   "id": "1af7c2fb",
   "metadata": {},
   "outputs": [
    {
     "name": "stdout",
     "output_type": "stream",
     "text": [
      "None <class 'NoneType'> 140720905501912\n"
     ]
    }
   ],
   "source": [
    "l2=l1.reverse()\n",
    "print(l2,type(l2),id(l2))"
   ]
  },
  {
   "cell_type": "code",
   "execution_count": 105,
   "id": "9fbc2817",
   "metadata": {},
   "outputs": [
    {
     "name": "stdout",
     "output_type": "stream",
     "text": [
      "[1.0, 'pavan', (5+5j), True, 'data', 10] <class 'list'> 2245251509504\n"
     ]
    }
   ],
   "source": [
    "\n",
    "print(l1,type(l1),id(l1))"
   ]
  },
  {
   "cell_type": "code",
   "execution_count": 98,
   "id": "2e9f5813",
   "metadata": {},
   "outputs": [
    {
     "name": "stdout",
     "output_type": "stream",
     "text": [
      "[10, 'data', True, (5+5j), 'pavan', 1.0] <class 'list'> 2245251510016\n"
     ]
    }
   ],
   "source": [
    "l=[10,'data',True,5+5j,'pavan',1.0]\n",
    "print(l,type(l),id(l))"
   ]
  },
  {
   "cell_type": "code",
   "execution_count": 100,
   "id": "34f81c6f",
   "metadata": {},
   "outputs": [
    {
     "name": "stdout",
     "output_type": "stream",
     "text": [
      "[1.0, 'pavan', (5+5j), True, 'data', 10] <class 'list'> 2245249774784\n"
     ]
    }
   ],
   "source": [
    "l3=l[::-1]\n",
    "print(l3,type(l3),id(l3))"
   ]
  },
  {
   "cell_type": "markdown",
   "id": "e37693b4",
   "metadata": {},
   "source": [
    "**11.sort()**"
   ]
  },
  {
   "cell_type": "markdown",
   "id": "ac249a66",
   "metadata": {},
   "source": [
    "* Syntax1:   listobj.sort()----->Used to Sort the data of list in Ascending Order\n",
    "* Syntax2:   listobj.sort(reverse=False)----->Used to Sort the data of list in Ascending Order\n",
    "* Syntax3:   listobj.sort(reverse=True)----------->Used to Sort the data of list in Decending Order"
   ]
  },
  {
   "cell_type": "code",
   "execution_count": 108,
   "id": "8091e619",
   "metadata": {},
   "outputs": [
    {
     "name": "stdout",
     "output_type": "stream",
     "text": [
      "[-2, 10, 20, 50, -3, 100, -100] <class 'list'> 2245249797760\n"
     ]
    }
   ],
   "source": [
    "l1=[-2,10,20,50,-3,100,-100]\n",
    "print(l1,type(l1),id(l1))"
   ]
  },
  {
   "cell_type": "code",
   "execution_count": 110,
   "id": "5bcd35c8",
   "metadata": {},
   "outputs": [
    {
     "name": "stdout",
     "output_type": "stream",
     "text": [
      "[-100, -3, -2, 10, 20, 50, 100] <class 'list'> 2245249797760\n"
     ]
    }
   ],
   "source": [
    "l1.sort()\n",
    "print(l1,type(l1),id(l1))"
   ]
  },
  {
   "cell_type": "code",
   "execution_count": 111,
   "id": "a9141e0f",
   "metadata": {},
   "outputs": [
    {
     "name": "stdout",
     "output_type": "stream",
     "text": [
      "[-100, -3, -2, 10, 20, 50, 100] <class 'list'> 2245249797760\n"
     ]
    }
   ],
   "source": [
    "l1.sort(reverse=False)\n",
    "print(l1,type(l1),id(l1))"
   ]
  },
  {
   "cell_type": "code",
   "execution_count": 112,
   "id": "3a532b4c",
   "metadata": {},
   "outputs": [
    {
     "name": "stdout",
     "output_type": "stream",
     "text": [
      "[100, 50, 20, 10, -2, -3, -100] <class 'list'> 2245249797760\n"
     ]
    }
   ],
   "source": [
    "l1.sort(reverse=True)\n",
    "print(l1,type(l1),id(l1))"
   ]
  },
  {
   "cell_type": "code",
   "execution_count": 114,
   "id": "ed71192e",
   "metadata": {},
   "outputs": [
    {
     "name": "stdout",
     "output_type": "stream",
     "text": [
      "['pavan', 'san', 'innomatics', 'hyd', 'data', 'an'] <class 'list'> 2245249797632\n"
     ]
    }
   ],
   "source": [
    "a=['pavan','san','innomatics','hyd','data','an']\n",
    "print(a,type(a),id(a))"
   ]
  },
  {
   "cell_type": "code",
   "execution_count": 115,
   "id": "c468b362",
   "metadata": {},
   "outputs": [
    {
     "name": "stdout",
     "output_type": "stream",
     "text": [
      "['an', 'data', 'hyd', 'innomatics', 'pavan', 'san'] <class 'list'> 2245249797632\n"
     ]
    }
   ],
   "source": [
    "a.sort()\n",
    "print(a,type(a),id(a))"
   ]
  },
  {
   "cell_type": "code",
   "execution_count": 116,
   "id": "8c21db2b",
   "metadata": {},
   "outputs": [
    {
     "name": "stdout",
     "output_type": "stream",
     "text": [
      "['san', 'pavan', 'innomatics', 'hyd', 'data', 'an'] <class 'list'> 2245249797632\n"
     ]
    }
   ],
   "source": [
    "a.sort(reverse=True)\n",
    "print(a,type(a),id(a))"
   ]
  },
  {
   "cell_type": "code",
   "execution_count": 117,
   "id": "635c9f66",
   "metadata": {},
   "outputs": [
    {
     "data": {
      "text/plain": [
       "['san', 'pavan', 'innomatics', 'hyd', 'data', 'an']"
      ]
     },
     "execution_count": 117,
     "metadata": {},
     "output_type": "execute_result"
    }
   ],
   "source": [
    "a"
   ]
  },
  {
   "cell_type": "code",
   "execution_count": 118,
   "id": "a6b4d0dd",
   "metadata": {},
   "outputs": [
    {
     "name": "stdout",
     "output_type": "stream",
     "text": [
      "['pavan', 'san', 'innomatics', 'hyd', 'data', 'an', 'ASR'] <class 'list'> 2245251594432\n"
     ]
    }
   ],
   "source": [
    "a=['pavan','san','innomatics','hyd','data','an','ASR']\n",
    "print(a,type(a),id(a))"
   ]
  },
  {
   "cell_type": "code",
   "execution_count": 119,
   "id": "cc6d36eb",
   "metadata": {},
   "outputs": [
    {
     "name": "stdout",
     "output_type": "stream",
     "text": [
      "['ASR', 'an', 'data', 'hyd', 'innomatics', 'pavan', 'san'] <class 'list'> 2245251594432\n"
     ]
    }
   ],
   "source": [
    "a.sort()\n",
    "print(a,type(a),id(a))"
   ]
  },
  {
   "cell_type": "code",
   "execution_count": 122,
   "id": "71adb859",
   "metadata": {},
   "outputs": [
    {
     "name": "stdout",
     "output_type": "stream",
     "text": [
      "['pavan', 'san', 'innomatics', 'hyd', 'd.sc', 'an', 'ASR'] <class 'list'> 2245250747072\n"
     ]
    }
   ],
   "source": [
    "a=['pavan','san','innomatics','hyd','d.sc','an','ASR']\n",
    "print(a,type(a),id(a))"
   ]
  },
  {
   "cell_type": "code",
   "execution_count": 123,
   "id": "a63eaeb3",
   "metadata": {},
   "outputs": [
    {
     "name": "stdout",
     "output_type": "stream",
     "text": [
      "['ASR', 'an', 'd.sc', 'hyd', 'innomatics', 'pavan', 'san'] <class 'list'> 2245250747072\n"
     ]
    }
   ],
   "source": [
    "a.sort()\n",
    "print(a,type(a),id(a))"
   ]
  },
  {
   "cell_type": "code",
   "execution_count": 124,
   "id": "93023b1d",
   "metadata": {},
   "outputs": [
    {
     "name": "stdout",
     "output_type": "stream",
     "text": [
      "['pavan', 'san', 'innomatics', 'hyd', 'd.sc', 'an', 'ASR', 10] <class 'list'> 2245249781888\n"
     ]
    }
   ],
   "source": [
    "a=['pavan','san','innomatics','hyd','d.sc','an','ASR',10]\n",
    "print(a,type(a),id(a))"
   ]
  },
  {
   "cell_type": "code",
   "execution_count": 125,
   "id": "50036062",
   "metadata": {},
   "outputs": [
    {
     "ename": "TypeError",
     "evalue": "'<' not supported between instances of 'int' and 'str'",
     "output_type": "error",
     "traceback": [
      "\u001b[1;31m---------------------------------------------------------------------------\u001b[0m",
      "\u001b[1;31mTypeError\u001b[0m                                 Traceback (most recent call last)",
      "\u001b[1;32m~\\AppData\\Local\\Temp\\ipykernel_21768\\3475923760.py\u001b[0m in \u001b[0;36m<module>\u001b[1;34m\u001b[0m\n\u001b[1;32m----> 1\u001b[1;33m \u001b[0ma\u001b[0m\u001b[1;33m.\u001b[0m\u001b[0msort\u001b[0m\u001b[1;33m(\u001b[0m\u001b[1;33m)\u001b[0m\u001b[1;33m\u001b[0m\u001b[1;33m\u001b[0m\u001b[0m\n\u001b[0m\u001b[0;32m      2\u001b[0m \u001b[0mprint\u001b[0m\u001b[1;33m(\u001b[0m\u001b[0ma\u001b[0m\u001b[1;33m,\u001b[0m\u001b[0mtype\u001b[0m\u001b[1;33m(\u001b[0m\u001b[0ma\u001b[0m\u001b[1;33m)\u001b[0m\u001b[1;33m,\u001b[0m\u001b[0mid\u001b[0m\u001b[1;33m(\u001b[0m\u001b[0ma\u001b[0m\u001b[1;33m)\u001b[0m\u001b[1;33m)\u001b[0m\u001b[1;33m\u001b[0m\u001b[1;33m\u001b[0m\u001b[0m\n",
      "\u001b[1;31mTypeError\u001b[0m: '<' not supported between instances of 'int' and 'str'"
     ]
    }
   ],
   "source": [
    "a.sort()\n",
    "print(a,type(a),id(a))"
   ]
  },
  {
   "cell_type": "markdown",
   "id": "13b6a2a2",
   "metadata": {},
   "source": [
    "**12.extend()**"
   ]
  },
  {
   "cell_type": "markdown",
   "id": "cf0162c2",
   "metadata": {},
   "source": [
    "Syntax:    listobj1.extend(listobj2)\n",
    "* This Function is used for adding the content of listobj2 to listobj1\n",
    "* This Function can add only one list object content at a time to another list object but not multiple list objects.\n",
    "* To extend multiple list objects at a time to list object, we use + operator\n",
    "* Syntax: listobj1=listobj1+listobj2+....+listobj-n"
   ]
  },
  {
   "cell_type": "code",
   "execution_count": 133,
   "id": "b2baf05f",
   "metadata": {},
   "outputs": [
    {
     "name": "stdout",
     "output_type": "stream",
     "text": [
      "[10, 20, 30] ['pavan', 'data science']\n"
     ]
    }
   ],
   "source": [
    "a,b=[10,20,30],['pavan','data science']\n",
    "print(a,b)"
   ]
  },
  {
   "cell_type": "code",
   "execution_count": 134,
   "id": "d1382635",
   "metadata": {},
   "outputs": [
    {
     "data": {
      "text/plain": [
       "([10, 20, 30], 2245251597056)"
      ]
     },
     "execution_count": 134,
     "metadata": {},
     "output_type": "execute_result"
    }
   ],
   "source": [
    "a,id(a)"
   ]
  },
  {
   "cell_type": "code",
   "execution_count": 135,
   "id": "7698ecd7",
   "metadata": {},
   "outputs": [
    {
     "data": {
      "text/plain": [
       "(['pavan', 'data science'], 2245249674432)"
      ]
     },
     "execution_count": 135,
     "metadata": {},
     "output_type": "execute_result"
    }
   ],
   "source": [
    "b,id(b)"
   ]
  },
  {
   "cell_type": "code",
   "execution_count": 136,
   "id": "f889d9f0",
   "metadata": {},
   "outputs": [
    {
     "name": "stdout",
     "output_type": "stream",
     "text": [
      "[10, 20, 30, 'pavan', 'data science'] 2245251597056\n"
     ]
    }
   ],
   "source": [
    "a.extend(b)\n",
    "print(a,id(a))"
   ]
  },
  {
   "cell_type": "code",
   "execution_count": 138,
   "id": "b87b6e0b",
   "metadata": {},
   "outputs": [
    {
     "name": "stdout",
     "output_type": "stream",
     "text": [
      "['pavan', 'data science'] 2245249674432\n"
     ]
    }
   ],
   "source": [
    "print(b,id(b))"
   ]
  },
  {
   "cell_type": "code",
   "execution_count": 139,
   "id": "ac770eab",
   "metadata": {},
   "outputs": [
    {
     "data": {
      "text/plain": [
       "['python', 'java']"
      ]
     },
     "execution_count": 139,
     "metadata": {},
     "output_type": "execute_result"
    }
   ],
   "source": [
    "c=['python','java']\n",
    "c"
   ]
  },
  {
   "cell_type": "code",
   "execution_count": 140,
   "id": "b832e8ba",
   "metadata": {},
   "outputs": [
    {
     "ename": "TypeError",
     "evalue": "list.extend() takes exactly one argument (2 given)",
     "output_type": "error",
     "traceback": [
      "\u001b[1;31m---------------------------------------------------------------------------\u001b[0m",
      "\u001b[1;31mTypeError\u001b[0m                                 Traceback (most recent call last)",
      "\u001b[1;32m~\\AppData\\Local\\Temp\\ipykernel_21768\\1841640777.py\u001b[0m in \u001b[0;36m<module>\u001b[1;34m\u001b[0m\n\u001b[1;32m----> 1\u001b[1;33m \u001b[0ma\u001b[0m\u001b[1;33m.\u001b[0m\u001b[0mextend\u001b[0m\u001b[1;33m(\u001b[0m\u001b[0mb\u001b[0m\u001b[1;33m,\u001b[0m\u001b[0mc\u001b[0m\u001b[1;33m)\u001b[0m\u001b[1;33m\u001b[0m\u001b[1;33m\u001b[0m\u001b[0m\n\u001b[0m\u001b[0;32m      2\u001b[0m \u001b[0mprint\u001b[0m\u001b[1;33m(\u001b[0m\u001b[0ma\u001b[0m\u001b[1;33m)\u001b[0m\u001b[1;33m\u001b[0m\u001b[1;33m\u001b[0m\u001b[0m\n",
      "\u001b[1;31mTypeError\u001b[0m: list.extend() takes exactly one argument (2 given)"
     ]
    }
   ],
   "source": [
    "a.extend(b,c)\n",
    "print(a)"
   ]
  },
  {
   "cell_type": "code",
   "execution_count": 141,
   "id": "5386a1ee",
   "metadata": {},
   "outputs": [
    {
     "name": "stdout",
     "output_type": "stream",
     "text": [
      "[10, 20, 30, 'pavan', 'data science', 'pavan', 'data science', 'python', 'java'] <class 'list'> 2245251617984\n"
     ]
    }
   ],
   "source": [
    "d=a+b+c\n",
    "print(d,type(d),id(d))"
   ]
  },
  {
   "cell_type": "markdown",
   "id": "bf1a5cbb",
   "metadata": {},
   "source": [
    "# INNER OR NESTED LIST"
   ]
  },
  {
   "cell_type": "markdown",
   "id": "3de57646",
   "metadata": {},
   "source": [
    "* The Process of Defining one list inside of another list is called Inner or Nested List\n",
    "* Syntax:-  listobj=[ Val1, Val2....[Val11,Val12...Val1n], [Val21,Val22..Val2n...], Val-n ]\n",
    "\n",
    "\n",
    "* Here Val1,Val2...Val-n are called Values of Outer List\n",
    "* Here Val11,Val12...Val-1n are called Values of one Inner List\n",
    "* Here Val21,Val22...Val-2n are called Values of another Inner List\n",
    "* In inner list we can perform Both Indexing and Slicing Operations\n",
    "* On Inner List, we can apply all pre-defined function of list.\n"
   ]
  },
  {
   "cell_type": "code",
   "execution_count": 164,
   "id": "f09e370c",
   "metadata": {},
   "outputs": [
    {
     "data": {
      "text/plain": [
       "[10, 20, ['list', 'inner'], [50, 60], 'if']"
      ]
     },
     "execution_count": 164,
     "metadata": {},
     "output_type": "execute_result"
    }
   ],
   "source": [
    "s=[10,20,['list','inner'],[50,60],'if']\n",
    "s"
   ]
  },
  {
   "cell_type": "code",
   "execution_count": 165,
   "id": "3b431324",
   "metadata": {},
   "outputs": [
    {
     "data": {
      "text/plain": [
       "10"
      ]
     },
     "execution_count": 165,
     "metadata": {},
     "output_type": "execute_result"
    }
   ],
   "source": [
    "s[0]"
   ]
  },
  {
   "cell_type": "code",
   "execution_count": 166,
   "id": "802c7701",
   "metadata": {},
   "outputs": [
    {
     "data": {
      "text/plain": [
       "20"
      ]
     },
     "execution_count": 166,
     "metadata": {},
     "output_type": "execute_result"
    }
   ],
   "source": [
    "s[1]"
   ]
  },
  {
   "cell_type": "code",
   "execution_count": 167,
   "id": "f2def794",
   "metadata": {},
   "outputs": [
    {
     "data": {
      "text/plain": [
       "['list', 'inner']"
      ]
     },
     "execution_count": 167,
     "metadata": {},
     "output_type": "execute_result"
    }
   ],
   "source": [
    "s[2]"
   ]
  },
  {
   "cell_type": "code",
   "execution_count": 168,
   "id": "641cbe98",
   "metadata": {},
   "outputs": [
    {
     "data": {
      "text/plain": [
       "[50, 60]"
      ]
     },
     "execution_count": 168,
     "metadata": {},
     "output_type": "execute_result"
    }
   ],
   "source": [
    "s[3]"
   ]
  },
  {
   "cell_type": "code",
   "execution_count": 169,
   "id": "e116aeaf",
   "metadata": {},
   "outputs": [
    {
     "data": {
      "text/plain": [
       "'if'"
      ]
     },
     "execution_count": 169,
     "metadata": {},
     "output_type": "execute_result"
    }
   ],
   "source": [
    "s[4]"
   ]
  },
  {
   "cell_type": "code",
   "execution_count": 170,
   "id": "0a8b012c",
   "metadata": {},
   "outputs": [
    {
     "data": {
      "text/plain": [
       "[10, 20, ['list', 'inner', 100], [50, 60], 'if']"
      ]
     },
     "execution_count": 170,
     "metadata": {},
     "output_type": "execute_result"
    }
   ],
   "source": [
    "s[2].append(100)\n",
    "s"
   ]
  },
  {
   "cell_type": "code",
   "execution_count": 171,
   "id": "4d2ec4c0",
   "metadata": {},
   "outputs": [
    {
     "data": {
      "text/plain": [
       "[10, 20, ['list', 'inner', 100], [50, 60, 'python'], 'if']"
      ]
     },
     "execution_count": 171,
     "metadata": {},
     "output_type": "execute_result"
    }
   ],
   "source": [
    "s[3].insert(2,'python')\n",
    "s"
   ]
  },
  {
   "cell_type": "code",
   "execution_count": 172,
   "id": "503150dc",
   "metadata": {},
   "outputs": [
    {
     "data": {
      "text/plain": [
       "[10, 20, ['list', 'inner', 100], [50, 60, 'python'], 'if']"
      ]
     },
     "execution_count": 172,
     "metadata": {},
     "output_type": "execute_result"
    }
   ],
   "source": [
    "s[2][:1]\n",
    "s"
   ]
  },
  {
   "cell_type": "code",
   "execution_count": 173,
   "id": "5d750227",
   "metadata": {},
   "outputs": [
    {
     "data": {
      "text/plain": [
       "[10, 20, ['list', 'inner', 100], [50, 60, 'python'], 'if']"
      ]
     },
     "execution_count": 173,
     "metadata": {},
     "output_type": "execute_result"
    }
   ],
   "source": [
    "s[-2][::-1]\n",
    "s"
   ]
  },
  {
   "cell_type": "code",
   "execution_count": 174,
   "id": "b3ef9c12",
   "metadata": {},
   "outputs": [
    {
     "data": {
      "text/plain": [
       "[10, 20, [], [50, 60, 'python'], 'if']"
      ]
     },
     "execution_count": 174,
     "metadata": {},
     "output_type": "execute_result"
    }
   ],
   "source": [
    "s[2].clear()\n",
    "s"
   ]
  },
  {
   "cell_type": "code",
   "execution_count": 175,
   "id": "000c2d4a",
   "metadata": {},
   "outputs": [
    {
     "data": {
      "text/plain": [
       "[10, 20, [10], [50, 60, 'python'], 'if']"
      ]
     },
     "execution_count": 175,
     "metadata": {},
     "output_type": "execute_result"
    }
   ],
   "source": [
    "s[2].append(10)\n",
    "s"
   ]
  },
  {
   "cell_type": "code",
   "execution_count": 176,
   "id": "0a4a9e17",
   "metadata": {},
   "outputs": [
    {
     "data": {
      "text/plain": [
       "[10, 20, [10, 20], [50, 60, 'python'], 'if']"
      ]
     },
     "execution_count": 176,
     "metadata": {},
     "output_type": "execute_result"
    }
   ],
   "source": [
    "s[2].append(20)\n",
    "s"
   ]
  },
  {
   "cell_type": "code",
   "execution_count": 178,
   "id": "95022cd1",
   "metadata": {},
   "outputs": [
    {
     "data": {
      "text/plain": [
       "[10, 20, [55, 25, 100, 45, 36, 86], [50, 60, 69], 'if']"
      ]
     },
     "execution_count": 178,
     "metadata": {},
     "output_type": "execute_result"
    }
   ],
   "source": [
    "s1=[10, 20, [55, 25, 100,45,36,86], [50, 60, 69], 'if']\n",
    "s1"
   ]
  },
  {
   "cell_type": "code",
   "execution_count": 181,
   "id": "6023ea71",
   "metadata": {},
   "outputs": [
    {
     "data": {
      "text/plain": [
       "[10, 20, [55, 25, 100, 45, 36, 86], [50, 60, 69], 'if']"
      ]
     },
     "execution_count": 181,
     "metadata": {},
     "output_type": "execute_result"
    }
   ],
   "source": [
    "s1[2][::-1]\n",
    "s1"
   ]
  },
  {
   "cell_type": "code",
   "execution_count": 182,
   "id": "4553d7df",
   "metadata": {},
   "outputs": [
    {
     "data": {
      "text/plain": [
       "[55, 25, 100, 45, 36, 86]"
      ]
     },
     "execution_count": 182,
     "metadata": {},
     "output_type": "execute_result"
    }
   ],
   "source": [
    "s1[2]"
   ]
  },
  {
   "cell_type": "code",
   "execution_count": 183,
   "id": "0b9eb877",
   "metadata": {},
   "outputs": [
    {
     "data": {
      "text/plain": [
       "[45, 36, 86]"
      ]
     },
     "execution_count": 183,
     "metadata": {},
     "output_type": "execute_result"
    }
   ],
   "source": [
    "s1[2][3:6]"
   ]
  },
  {
   "cell_type": "code",
   "execution_count": 184,
   "id": "a4ae7a48",
   "metadata": {},
   "outputs": [
    {
     "data": {
      "text/plain": [
       "[69, 60, 50]"
      ]
     },
     "execution_count": 184,
     "metadata": {},
     "output_type": "execute_result"
    }
   ],
   "source": [
    "s1[3][::-1]"
   ]
  },
  {
   "cell_type": "markdown",
   "id": "cdfc533f",
   "metadata": {},
   "source": [
    "# tuple():"
   ]
  },
  {
   "cell_type": "markdown",
   "id": "4dbc2be9",
   "metadata": {},
   "source": [
    "### properties:"
   ]
  },
  {
   "cell_type": "markdown",
   "id": "c99e5275",
   "metadata": {},
   "source": [
    "* 'tuple' is one of the pre-defined class and treated as List data Type.\n",
    "* The purpose of tuple data type is that \"To  store Multiple Values either of Same type or Different  Types or Both Types with Unique and Duplicates in single object (Constant Values)\".\n",
    "* The elements of tuple must be stored or organized within braces ( ) and Elements separated by comma.\n",
    "* An object of tuple maintains Insertion Order \n",
    "* An object of tuple belongs to Immutable bcoz tuple' object does not support item assignment.\n",
    "* On the object of tuple, we can perform both Indexing and Slicing Operations.\n",
    "* In Python Programming, we have Two Types of tuple objects. They are\n",
    "\t\t\t1. empty tuple\n",
    "\t\t\t2. non-empty tuple\n"
   ]
  },
  {
   "cell_type": "markdown",
   "id": "80b7330d",
   "metadata": {},
   "source": [
    "**1. Empty tuple:**\n",
    "\n",
    "* An Empty tuple is one, which does not contains any elements and whose length is 0\n",
    "* Syntax:  tplobj=( )\n",
    "\t\t\tOR\n",
    "\t\t   tplobj=tuple()\t\n"
   ]
  },
  {
   "cell_type": "markdown",
   "id": "d6078795",
   "metadata": {},
   "source": [
    "**2. Non-Empty tuple:**\n",
    "\n",
    "=>An Non-Empty tuple is one, which  contains  elements and whose length > 0<br>\n",
    "**Examples:**\n",
    "\n",
    "\t\t\ttplobj=( Val1,Val2,......val-n )\n",
    "\t\t\t\t\t(OR)\n",
    "\t\t\ttplobj=tuple(object)\n",
    "\t\t\t\t\t(OR)\n",
    "\t\t\ttplobj=val1,val2....val-n"
   ]
  },
  {
   "cell_type": "markdown",
   "id": "1810f7b3",
   "metadata": {},
   "source": [
    "**NOTE: It is always recommended to Choose tuple data type for representing OR Storing Constant Values.**\n"
   ]
  },
  {
   "cell_type": "code",
   "execution_count": 1,
   "id": "0983496c",
   "metadata": {},
   "outputs": [
    {
     "name": "stdout",
     "output_type": "stream",
     "text": [
      "(10, 55, 20, 30, 48, 60, 25) <class 'tuple'> 1640201469472\n"
     ]
    }
   ],
   "source": [
    "t1=(10,55,20,30,48,60,25)\n",
    "print(t1,type(t1),id(t1))"
   ]
  },
  {
   "cell_type": "code",
   "execution_count": 2,
   "id": "d4d5b8b4",
   "metadata": {},
   "outputs": [
    {
     "name": "stdout",
     "output_type": "stream",
     "text": [
      "(10, 'pavan', True, (5+5j)) <class 'tuple'> 1640201912704\n"
     ]
    }
   ],
   "source": [
    "t2=(10,'pavan',True,5+5j)\n",
    "print(t2,type(t2),id(t2))"
   ]
  },
  {
   "cell_type": "code",
   "execution_count": 3,
   "id": "d41e9e90",
   "metadata": {},
   "outputs": [
    {
     "name": "stdout",
     "output_type": "stream",
     "text": [
      "(10, 'info', 2.5, True) <class 'tuple'> 1640201912864\n"
     ]
    }
   ],
   "source": [
    "t3=10,'info',2.5,True\n",
    "print(t3,type(t3),id(t3))"
   ]
  },
  {
   "cell_type": "code",
   "execution_count": 4,
   "id": "bafffe00",
   "metadata": {},
   "outputs": [
    {
     "name": "stdout",
     "output_type": "stream",
     "text": [
      "() <class 'tuple'>\n"
     ]
    }
   ],
   "source": [
    "t4=()\n",
    "print(t4,type(t4))"
   ]
  },
  {
   "cell_type": "code",
   "execution_count": 5,
   "id": "b7573410",
   "metadata": {},
   "outputs": [
    {
     "name": "stdout",
     "output_type": "stream",
     "text": [
      "() <class 'tuple'>\n"
     ]
    }
   ],
   "source": [
    "t=tuple()\n",
    "print(t,type(t))"
   ]
  },
  {
   "cell_type": "code",
   "execution_count": 7,
   "id": "b7140342",
   "metadata": {},
   "outputs": [
    {
     "data": {
      "text/plain": [
       "(10, 'pavan', True, (5+5j))"
      ]
     },
     "execution_count": 7,
     "metadata": {},
     "output_type": "execute_result"
    }
   ],
   "source": [
    "t2"
   ]
  },
  {
   "cell_type": "code",
   "execution_count": 8,
   "id": "05cfaad9",
   "metadata": {},
   "outputs": [
    {
     "data": {
      "text/plain": [
       "10"
      ]
     },
     "execution_count": 8,
     "metadata": {},
     "output_type": "execute_result"
    }
   ],
   "source": [
    "t2[0]"
   ]
  },
  {
   "cell_type": "code",
   "execution_count": 9,
   "id": "fd4fa162",
   "metadata": {},
   "outputs": [
    {
     "data": {
      "text/plain": [
       "(5+5j)"
      ]
     },
     "execution_count": 9,
     "metadata": {},
     "output_type": "execute_result"
    }
   ],
   "source": [
    "t2[-1]"
   ]
  },
  {
   "cell_type": "code",
   "execution_count": 10,
   "id": "9e5724b3",
   "metadata": {},
   "outputs": [
    {
     "ename": "TypeError",
     "evalue": "'tuple' object does not support item assignment",
     "output_type": "error",
     "traceback": [
      "\u001b[1;31m---------------------------------------------------------------------------\u001b[0m",
      "\u001b[1;31mTypeError\u001b[0m                                 Traceback (most recent call last)",
      "\u001b[1;32m~\\AppData\\Local\\Temp\\ipykernel_4560\\2910123081.py\u001b[0m in \u001b[0;36m<module>\u001b[1;34m\u001b[0m\n\u001b[1;32m----> 1\u001b[1;33m \u001b[0mt2\u001b[0m\u001b[1;33m[\u001b[0m\u001b[1;36m2\u001b[0m\u001b[1;33m]\u001b[0m\u001b[1;33m=\u001b[0m\u001b[1;36m100\u001b[0m\u001b[1;33m\u001b[0m\u001b[1;33m\u001b[0m\u001b[0m\n\u001b[0m",
      "\u001b[1;31mTypeError\u001b[0m: 'tuple' object does not support item assignment"
     ]
    }
   ],
   "source": [
    "t2[2]=100"
   ]
  },
  {
   "cell_type": "code",
   "execution_count": null,
   "id": "605ead56",
   "metadata": {},
   "outputs": [],
   "source": []
  }
 ],
 "metadata": {
  "kernelspec": {
   "display_name": "Python 3 (ipykernel)",
   "language": "python",
   "name": "python3"
  },
  "language_info": {
   "codemirror_mode": {
    "name": "ipython",
    "version": 3
   },
   "file_extension": ".py",
   "mimetype": "text/x-python",
   "name": "python",
   "nbconvert_exporter": "python",
   "pygments_lexer": "ipython3",
   "version": "3.9.13"
  }
 },
 "nbformat": 4,
 "nbformat_minor": 5
}
